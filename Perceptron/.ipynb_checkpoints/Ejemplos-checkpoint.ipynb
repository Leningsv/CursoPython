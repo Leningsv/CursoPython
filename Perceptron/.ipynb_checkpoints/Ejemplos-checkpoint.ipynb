{
 "cells": [
  {
   "cell_type": "code",
   "execution_count": 8,
   "metadata": {},
   "outputs": [
    {
     "name": "stdout",
     "output_type": "stream",
     "text": [
      "------------------------------------------------------------\n",
      "[0, 0, 0]\n",
      "[0.1, 0.0, 0.0]\n",
      "[0.2, 0.0, 0.1]\n",
      "[0.30000000000000004, 0.1, 0.1]\n",
      "------------------------------------------------------------\n",
      "[0.30000000000000004, 0.1, 0.1]\n",
      "[0.4, 0.1, 0.1]\n",
      "[0.5, 0.1, 0.2]\n",
      "[0.5, 0.1, 0.2]\n",
      "------------------------------------------------------------\n",
      "[0.4, 0.0, 0.1]\n",
      "[0.5, 0.0, 0.1]\n",
      "[0.5, 0.0, 0.1]\n",
      "[0.6, 0.1, 0.1]\n",
      "------------------------------------------------------------\n",
      "[0.5, 0.0, 0.0]\n",
      "[0.6, 0.0, 0.0]\n",
      "[0.6, 0.0, 0.0]\n",
      "[0.6, 0.0, 0.0]\n",
      "------------------------------------------------------------\n",
      "[0.5, -0.1, -0.1]\n",
      "[0.6, -0.1, -0.1]\n",
      "[0.7, -0.1, 0.0]\n",
      "[0.7, -0.1, 0.0]\n",
      "------------------------------------------------------------\n",
      "[0.6, -0.2, -0.1]\n",
      "[0.6, -0.2, -0.1]\n",
      "[0.7, -0.2, 0.0]\n",
      "[0.7999999999999999, -0.1, 0.0]\n",
      "------------------------------------------------------------\n",
      "[0.7, -0.2, -0.1]\n",
      "[0.7, -0.2, -0.1]\n",
      "[0.7, -0.2, -0.1]\n",
      "[0.7999999999999999, -0.1, -0.1]\n",
      "------------------------------------------------------------\n",
      "[0.7, -0.2, -0.2]\n",
      "[0.7, -0.2, -0.2]\n",
      "[0.7999999999999999, -0.2, -0.1]\n",
      "[0.7999999999999999, -0.2, -0.1]\n",
      "------------------------------------------------------------\n",
      "[0.7999999999999999, -0.2, -0.1]\n",
      "[0.7999999999999999, -0.2, -0.1]\n",
      "[0.7999999999999999, -0.2, -0.1]\n",
      "[0.7999999999999999, -0.2, -0.1]\n"
     ]
    }
   ],
   "source": [
    "umbral = 0.5\n",
    "tasa_de_aprendizaje = 0.1\n",
    "pesos = [0, 0, 0]\n",
    "conjunto_de_entrenamiento = [((1, 0, 0), 1), ((1, 0, 1), 1), ((1, 1, 0), 1), ((1, 1, 1), 0)]\n",
    "\n",
    "def producto_punto(valores, pesos):\n",
    "    return sum(valor * peso for valor, peso in zip(valores, pesos))\n",
    "\n",
    "while True:\n",
    "    print('-' * 60)\n",
    "    contador_de_errores = 0\n",
    "    for vector_de_entrada, salida_deseada in conjunto_de_entrenamiento:\n",
    "        print(pesos)\n",
    "        resultado = producto_punto(vector_de_entrada, pesos) > umbral\n",
    "        error = salida_deseada - resultado\n",
    "        if error != 0:\n",
    "            contador_de_errores += 1\n",
    "            for indice, valor in enumerate(vector_de_entrada):\n",
    "                pesos[indice] += tasa_de_aprendizaje * error * valor\n",
    "    if contador_de_errores == 0:\n",
    "        break"
   ]
  },
  {
   "cell_type": "code",
   "execution_count": 37,
   "metadata": {},
   "outputs": [
    {
     "data": {
      "image/png": "[encoded data removed]",
      "text/plain": [
       "<matplotlib.figure.Figure at 0x2ab6e3e45c0>"
      ]
     },
     "metadata": {},
     "output_type": "display_data"
    }
   ],
   "source": [
    "import numpy as np\n",
    "import pylab as pl\n",
    "from sklearn import svm\n",
    "# first training set\n",
    "X = np.r_['1,2,0',[500, 1000, 2000, 1000, 4000, 4000, 8000],[500, 1000, 2000, 4000, 1000, 4000, 2000] ]\n",
    "Y = [0, 0, 0, 0, 0, 1, 1]\n",
    "pl.scatter(X[:, 0], X[:, 1], c=Y, cmap=pl.cm.Paired)\n",
    "pl.xlabel('Label A')\n",
    "pl.ylabel('Label B')\n",
    "pl.axis('tight')\n",
    "pl.ylim( (0, 8110) )\n",
    "pl.xlim( (0, 8110) )\n",
    "pl.show()\n"
   ]
  },
  {
   "cell_type": "code",
   "execution_count": 38,
   "metadata": {},
   "outputs": [],
   "source": [
    "pl.show()"
   ]
  },
  {
   "cell_type": "code",
   "execution_count": null,
   "metadata": {
    "collapsed": true
   },
   "outputs": [],
   "source": []
  }
 ],
 "metadata": {
  "kernelspec": {
   "display_name": "Python 3",
   "language": "python",
   "name": "python3"
  },
  "language_info": {
   "codemirror_mode": {
    "name": "ipython",
    "version": 3
   },
   "file_extension": ".py",
   "mimetype": "text/x-python",
   "name": "python",
   "nbconvert_exporter": "python",
   "pygments_lexer": "ipython3",
   "version": "3.6.3"
  }
 },
 "nbformat": 4,
 "nbformat_minor": 2
}
