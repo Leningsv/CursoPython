{
 "cells": [
  {
   "cell_type": "code",
   "execution_count": 10,
   "metadata": {},
   "outputs": [
    {
     "name": "stdout",
     "output_type": "stream",
     "text": [
      "Se a creado una pelicula Padrino\n",
      "Se esta borrando la pelicula Padrino\n"
     ]
    }
   ],
   "source": [
    "class Pelicula:\n",
    "    # Constructor de clase\n",
    "    def __init__(self, titulo, duracion, lanzamiento):\n",
    "        self.titulo= titulo\n",
    "        self.duracion = duracion\n",
    "        self.lanzamiento = lanzamiento\n",
    "        print('Se a creado una pelicula', self.titulo)\n",
    "    # Destructor de clase\n",
    "    def __del__(self):\n",
    "        print('Se esta borrando la pelicula', self.titulo)\n",
    "p=Pelicula('Padrino',175,1972)\n",
    "del(p)"
   ]
  },
  {
   "cell_type": "code",
   "execution_count": 9,
   "metadata": {},
   "outputs": [
    {
     "data": {
      "text/plain": [
       "'10'"
      ]
     },
     "execution_count": 9,
     "metadata": {},
     "output_type": "execute_result"
    }
   ],
   "source": [
    "str(10)"
   ]
  },
  {
   "cell_type": "code",
   "execution_count": 11,
   "metadata": {},
   "outputs": [
    {
     "name": "stdout",
     "output_type": "stream",
     "text": [
      "Se a creado una pelicula Padrino\n"
     ]
    }
   ],
   "source": [
    "class Pelicula:\n",
    "    # Constructor de clase\n",
    "    def __init__(self, titulo, duracion, lanzamiento):\n",
    "        self.titulo= titulo\n",
    "        self.duracion = duracion\n",
    "        self.lanzamiento = lanzamiento\n",
    "        print('Se a creado una pelicula', self.titulo)\n",
    "    # Destructor de clase\n",
    "    def __del__(self):\n",
    "        print('Se esta borrando la pelicula', self.titulo)\n",
    "p=Pelicula('Padrino',175,1972)"
   ]
  },
  {
   "cell_type": "code",
   "execution_count": 12,
   "metadata": {},
   "outputs": [
    {
     "data": {
      "text/plain": [
       "'<__main__.Pelicula object at 0x0000018826623400>'"
      ]
     },
     "execution_count": 12,
     "metadata": {},
     "output_type": "execute_result"
    }
   ],
   "source": [
    "str(p)"
   ]
  },
  {
   "cell_type": "code",
   "execution_count": 20,
   "metadata": {},
   "outputs": [
    {
     "name": "stdout",
     "output_type": "stream",
     "text": [
      "Se a creado una pelicula Padrino\n",
      "Se esta borrando la pelicula Padrino\n"
     ]
    }
   ],
   "source": [
    "class Pelicula:\n",
    "    # Constructor de clase\n",
    "    def __init__(self, titulo, duracion, lanzamiento):\n",
    "        self.titulo= titulo\n",
    "        self.duracion = duracion\n",
    "        self.lanzamiento = lanzamiento\n",
    "        print('Se a creado una pelicula', self.titulo)\n",
    "    # Destructor de clase\n",
    "    def __del__(self):\n",
    "        print('Se esta borrando la pelicula', self.titulo)\n",
    "    # Redefinimos el metodo string\n",
    "    def __str__(self):\n",
    "        return '{} lanzada en {} con una duracion de {} minutos'.format(self.titulo, self.lanzamiento, self.duracion)\n",
    "p=Pelicula('Padrino',175,1972)"
   ]
  },
  {
   "cell_type": "code",
   "execution_count": 21,
   "metadata": {},
   "outputs": [
    {
     "data": {
      "text/plain": [
       "'Padrino lanzada en 1972 con una duracion de 175 minutos'"
      ]
     },
     "execution_count": 21,
     "metadata": {},
     "output_type": "execute_result"
    }
   ],
   "source": [
    "str(p)"
   ]
  },
  {
   "cell_type": "code",
   "execution_count": 23,
   "metadata": {},
   "outputs": [
    {
     "name": "stdout",
     "output_type": "stream",
     "text": [
      "Se a creado una pelicula Padrino\n",
      "Se esta borrando la pelicula Padrino\n"
     ]
    }
   ],
   "source": [
    "class Pelicula:\n",
    "    # Constructor de clase\n",
    "    def __init__(self, titulo, duracion, lanzamiento):\n",
    "        self.titulo= titulo\n",
    "        self.duracion = duracion\n",
    "        self.lanzamiento = lanzamiento\n",
    "        print('Se a creado una pelicula', self.titulo)\n",
    "    # Destructor de clase\n",
    "    def __del__(self):\n",
    "        print('Se esta borrando la pelicula', self.titulo)\n",
    "    # Redefinimos el metodo string\n",
    "    def __str__(self):\n",
    "        return '{} lanzada en {} con una duracion de {} minutos'.format(self.titulo, self.lanzamiento, self.duracion)\n",
    "    #Redefinimos el metodo len\n",
    "    def __len__(self):\n",
    "        return self.duracion\n",
    "p=Pelicula('Padrino',175,1972)"
   ]
  },
  {
   "cell_type": "code",
   "execution_count": 24,
   "metadata": {},
   "outputs": [
    {
     "data": {
      "text/plain": [
       "175"
      ]
     },
     "execution_count": 24,
     "metadata": {},
     "output_type": "execute_result"
    }
   ],
   "source": [
    "len(p)"
   ]
  },
  {
   "cell_type": "code",
   "execution_count": 25,
   "metadata": {},
   "outputs": [
    {
     "data": {
      "text/plain": [
       "5"
      ]
     },
     "execution_count": 25,
     "metadata": {},
     "output_type": "execute_result"
    }
   ],
   "source": [
    "len('asdsa')"
   ]
  },
  {
   "cell_type": "code",
   "execution_count": null,
   "metadata": {
    "collapsed": true
   },
   "outputs": [],
   "source": []
  }
 ],
 "metadata": {
  "kernelspec": {
   "display_name": "Python 3",
   "language": "python",
   "name": "python3"
  },
  "language_info": {
   "codemirror_mode": {
    "name": "ipython",
    "version": 3
   },
   "file_extension": ".py",
   "mimetype": "text/x-python",
   "name": "python",
   "nbconvert_exporter": "python",
   "pygments_lexer": "ipython3",
   "version": "3.6.3"
  }
 },
 "nbformat": 4,
 "nbformat_minor": 1
}
