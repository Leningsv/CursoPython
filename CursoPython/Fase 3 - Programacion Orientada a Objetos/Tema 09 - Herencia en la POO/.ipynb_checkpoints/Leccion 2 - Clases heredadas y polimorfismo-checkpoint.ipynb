{
 "cells": [
  {
   "cell_type": "code",
   "execution_count": 2,
   "metadata": {
    "collapsed": true
   },
   "outputs": [],
   "source": [
    "class Producto:\n",
    "    def __init__(self,referencia,nombre,pvp,descripcion):\n",
    "        self.referencia = referencia\n",
    "        self.nombre = nombre\n",
    "        self.pvp = pvp\n",
    "        self.descripcion = descripcion\n",
    "        \n",
    "    def __str__(self):\n",
    "        return \"\"\"\\\n",
    "REFERENCIA\\t{}\n",
    "NOMBRE\\t\\t{}\n",
    "PVP\\t\\t{}\n",
    "DESCRIPCIÓN\\t{}\"\"\".format(self.referencia,self.nombre,self.pvp,self.descripcion)\n",
    "    \n",
    "\n",
    "class Adorno(Producto):\n",
    "    pass\n",
    "\n",
    "\n",
    "class Alimento(Producto):\n",
    "    productor = \"\"\n",
    "    distribuidor = \"\"\n",
    "    \n",
    "    def __str__(self):\n",
    "        return \"\"\"\\\n",
    "REFERENCIA\\t{}\n",
    "NOMBRE\\t\\t{}\n",
    "PVP\\t\\t{}\n",
    "DESCRIPCIÓN\\t{}\n",
    "PRODUCTOR\\t{}\n",
    "DISTRIBUIDOR\\t{}\"\"\".format(self.referencia,self.nombre,self.pvp,self.descripcion,self.productor,self.distribuidor)\n",
    "\n",
    "\n",
    "class Libro(Producto):\n",
    "    isbn = \"\"\n",
    "    autor = \"\"\n",
    "    \n",
    "    def __str__(self):\n",
    "        return \"\"\"\\\n",
    "REFERENCIA\\t{}\n",
    "NOMBRE\\t\\t{}\n",
    "PVP\\t\\t{}\n",
    "DESCRIPCIÓN\\t{}\n",
    "ISBN\\t\\t{}\n",
    "AUTOR\\t\\t{}\"\"\".format(self.referencia,self.nombre,self.pvp,self.descripcion,self.isbn,self.autor)"
   ]
  },
  {
   "cell_type": "code",
   "execution_count": 5,
   "metadata": {
    "collapsed": true
   },
   "outputs": [],
   "source": [
    "ad = Adorno('000A','Vaso Adornado',15,'VASO DE PORSELANA')\n",
    "\n",
    "al = Alimento(2035, 'Botella de aceite', 5,'1 litro')\n",
    "al.productor ='La favorita'\n",
    "al.distribuidor= 'Dist'\n",
    "\n",
    "li = Libro(2036,'Cosina Mediterranea',9,'Resetas sanas y buenas')\n",
    "li.isbn = '102828-12-23-90'\n",
    "li.autor = 'dona juana'"
   ]
  },
  {
   "cell_type": "code",
   "execution_count": 6,
   "metadata": {
    "collapsed": true
   },
   "outputs": [],
   "source": [
    "productos = [ad, al]"
   ]
  },
  {
   "cell_type": "code",
   "execution_count": 7,
   "metadata": {
    "collapsed": true
   },
   "outputs": [],
   "source": [
    "productos.append(li)"
   ]
  },
  {
   "cell_type": "code",
   "execution_count": 8,
   "metadata": {},
   "outputs": [
    {
     "data": {
      "text/plain": [
       "[<__main__.Adorno at 0x1c56624a748>,\n",
       " <__main__.Alimento at 0x1c56624a898>,\n",
       " <__main__.Libro at 0x1c56624a0f0>]"
      ]
     },
     "execution_count": 8,
     "metadata": {},
     "output_type": "execute_result"
    }
   ],
   "source": [
    "productos"
   ]
  },
  {
   "cell_type": "code",
   "execution_count": 10,
   "metadata": {},
   "outputs": [
    {
     "name": "stdout",
     "output_type": "stream",
     "text": [
      "Vaso Adornado\n",
      "REFERENCIA\t000A\n",
      "NOMBRE\t\tVaso Adornado\n",
      "PVP\t\t15\n",
      "DESCRIPCIÓN\tVASO DE PORSELANA \n",
      "\n",
      "Botella de aceite\n",
      "REFERENCIA\t2035\n",
      "NOMBRE\t\tBotella de aceite\n",
      "PVP\t\t5\n",
      "DESCRIPCIÓN\t1 litro\n",
      "PRODUCTOR\tLa favorita\n",
      "DISTRIBUIDOR\tDist \n",
      "\n",
      "Cosina Mediterranea\n",
      "REFERENCIA\t2036\n",
      "NOMBRE\t\tCosina Mediterranea\n",
      "PVP\t\t9\n",
      "DESCRIPCIÓN\tResetas sanas y buenas\n",
      "ISBN\t\t102828-12-23-90\n",
      "AUTOR\t\tdona juana \n",
      "\n"
     ]
    }
   ],
   "source": [
    "for p in productos:\n",
    "    print(p.nombre)\n",
    "    print(p,'\\n')"
   ]
  },
  {
   "cell_type": "code",
   "execution_count": 11,
   "metadata": {},
   "outputs": [
    {
     "name": "stdout",
     "output_type": "stream",
     "text": [
      "000A Vaso Adornado\n",
      "2035 Botella de aceite La favorita\n",
      "2036 Cosina Mediterranea 102828-12-23-90\n"
     ]
    }
   ],
   "source": [
    "for p in productos:\n",
    "    if(isinstance(p,Adorno)):\n",
    "        print(p.referencia, p.nombre)\n",
    "    elif(isinstance(p,Alimento)):\n",
    "        print(p.referencia, p.nombre, p.productor)\n",
    "    elif(isinstance(p,Libro)):\n",
    "        print(p.referencia,p.nombre,p.isbn)\n"
   ]
  },
  {
   "cell_type": "code",
   "execution_count": 15,
   "metadata": {},
   "outputs": [
    {
     "name": "stdout",
     "output_type": "stream",
     "text": [
      "REFERENCIA\t2035\n",
      "NOMBRE\t\tBotella de aceite\n",
      "PVP\t\t3.2804999999999995\n",
      "DESCRIPCIÓN\t1 litro\n",
      "PRODUCTOR\tLa favorita\n",
      "DISTRIBUIDOR\tDist\n"
     ]
    }
   ],
   "source": [
    "def rebajarProducto(p,rebaja):\n",
    "    '''debuelbe un producto con una rebaja en cporcentaje de su precio'''\n",
    "    p.pvp = p.pvp - (p.pvp/100*rebaja)\n",
    "    return p\n",
    "al_rebajado = rebajarProducto(al,10)\n",
    "print(al_rebajado)"
   ]
  },
  {
   "cell_type": "code",
   "execution_count": 16,
   "metadata": {
    "collapsed": true
   },
   "outputs": [],
   "source": [
    "copia_al = al\n",
    "copia_al.referencia= 2038"
   ]
  },
  {
   "cell_type": "code",
   "execution_count": 17,
   "metadata": {
    "collapsed": true
   },
   "outputs": [],
   "source": [
    "import copy\n",
    "copia_ad= copy.copy(ad)"
   ]
  },
  {
   "cell_type": "code",
   "execution_count": 18,
   "metadata": {},
   "outputs": [
    {
     "name": "stdout",
     "output_type": "stream",
     "text": [
      "REFERENCIA\t000A\n",
      "NOMBRE\t\tVaso Adornado\n",
      "PVP\t\t15\n",
      "DESCRIPCIÓN\tVASO DE PORSELANA\n"
     ]
    }
   ],
   "source": [
    "print(copia_ad)"
   ]
  },
  {
   "cell_type": "code",
   "execution_count": 21,
   "metadata": {},
   "outputs": [
    {
     "name": "stdout",
     "output_type": "stream",
     "text": [
      "REFERENCIA\t111\n",
      "NOMBRE\t\tVaso Adornado\n",
      "PVP\t\t15\n",
      "DESCRIPCIÓN\tVASO DE PORSELANA\n"
     ]
    }
   ],
   "source": [
    "ad.referencia = 111\n",
    "print(ad)"
   ]
  },
  {
   "cell_type": "code",
   "execution_count": 22,
   "metadata": {},
   "outputs": [
    {
     "name": "stdout",
     "output_type": "stream",
     "text": [
      "REFERENCIA\t000A\n",
      "NOMBRE\t\tVaso Adornado\n",
      "PVP\t\t15\n",
      "DESCRIPCIÓN\tVASO DE PORSELANA\n"
     ]
    }
   ],
   "source": [
    "print(copia_ad)"
   ]
  },
  {
   "cell_type": "code",
   "execution_count": null,
   "metadata": {
    "collapsed": true
   },
   "outputs": [],
   "source": []
  }
 ],
 "metadata": {
  "kernelspec": {
   "display_name": "Python 3",
   "language": "python",
   "name": "python3"
  },
  "language_info": {
   "codemirror_mode": {
    "name": "ipython",
    "version": 3
   },
   "file_extension": ".py",
   "mimetype": "text/x-python",
   "name": "python",
   "nbconvert_exporter": "python",
   "pygments_lexer": "ipython3",
   "version": "3.6.3"
  }
 },
 "nbformat": 4,
 "nbformat_minor": 1
}
