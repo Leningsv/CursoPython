{
 "cells": [
  {
   "cell_type": "code",
   "execution_count": 2,
   "metadata": {},
   "outputs": [],
   "source": [
    "class Producto:\n",
    "    def __init__(self, referencia, tipo, nombre, pvp, descripcion, producto= None, distribuidor= None, isbn=None, autor=None):\n",
    "        self.referencia= referencia\n",
    "        self.tipo=tipo\n",
    "        self.nombre = nombre\n",
    "        self.pvp = pvp\n",
    "        self.descripcion = descripcion\n",
    "        self.producto = producto\n",
    "        self.distribuidor = distribuidor\n",
    "        self.isbn = isbn\n",
    "        self.autor = autor\n",
    "adorno = Producto('000A','ADORNO','Vaso Adornado',15,'VASO DE PORSELANA')"
   ]
  },
  {
   "cell_type": "code",
   "execution_count": 4,
   "metadata": {},
   "outputs": [
    {
     "data": {
      "text/plain": [
       "'ADORNO'"
      ]
     },
     "execution_count": 4,
     "metadata": {},
     "output_type": "execute_result"
    }
   ],
   "source": [
    "adorno.tipo"
   ]
  },
  {
   "cell_type": "code",
   "execution_count": 16,
   "metadata": {},
   "outputs": [],
   "source": [
    "class Producto:\n",
    "    def __init__(self, referencia, nombre, pvp, descripcion):\n",
    "        self.referencia= referencia\n",
    "        self.nombre = nombre\n",
    "        self.pvp = pvp\n",
    "        self.descripcion = descripcion\n",
    "    def __str__(self):\n",
    "        return '''\\\n",
    "REFERENCIA {}\n",
    "NOMBRE {}\n",
    "PVP {}\n",
    "DESCRIPCION {}'''.format(self.referencia, self.nombre, self.pvp, self.descripcion)\n",
    "class Adorno(Producto):\n",
    "    pass\n",
    "adorno = Adorno('000A','Vaso Adornado',15,'VASO DE PORSELANA')"
   ]
  },
  {
   "cell_type": "code",
   "execution_count": 17,
   "metadata": {},
   "outputs": [
    {
     "name": "stdout",
     "output_type": "stream",
     "text": [
      "REFERENCIA 000A\n",
      "NOMBRE Vaso Adornado\n",
      "PVP 15\n",
      "DESCRIPCION VASO DE PORSELANA\n"
     ]
    }
   ],
   "source": [
    "print(adorno)"
   ]
  },
  {
   "cell_type": "code",
   "execution_count": 26,
   "metadata": {},
   "outputs": [],
   "source": [
    "class Alimento(Producto):\n",
    "    productor =''\n",
    "    distribuidor = ''\n",
    "    def __str__(self):\n",
    "        return '''\\\n",
    "REFERENCIA {}\n",
    "NOMBRE {}\n",
    "PVP {}\n",
    "DESCRIPCION {}\n",
    "PRODUCTOR {}\n",
    "DISTRIBUIDOR {}'''.format(self.referencia, self.nombre, self.pvp, self.descripcion, self.productor, self.distribuidor)\n",
    "\n",
    "    \n",
    "    \n",
    "al = Alimento(2035, 'Botella de aceite', 5,'1 litro')\n",
    "al.productor ='La favorita'\n",
    "al.distribuidor= 'Dist'"
   ]
  },
  {
   "cell_type": "code",
   "execution_count": 27,
   "metadata": {},
   "outputs": [
    {
     "name": "stdout",
     "output_type": "stream",
     "text": [
      "REFERENCIA 2035\n",
      "NOMBRE Botella de aceite\n",
      "PVP 5\n",
      "DESCRIPCION 1 litro\n",
      "PRODUCTOR La favorita\n",
      "DISTRIBUIDOR Dist\n"
     ]
    }
   ],
   "source": [
    "print(al)"
   ]
  },
  {
   "cell_type": "code",
   "execution_count": 28,
   "metadata": {},
   "outputs": [
    {
     "name": "stdout",
     "output_type": "stream",
     "text": [
      "REFERENCIA 2036\n",
      "NOMBRE Cosina Mediterranea\n",
      "PVP 9\n",
      "DESCRIPCION Resetas sanas y buenas\n",
      "ISBN 102828-12-23-90\n",
      "AUTOR dona juana\n"
     ]
    }
   ],
   "source": [
    "class Libro(Producto):\n",
    "    isbn =''\n",
    "    autor = ''\n",
    "    def __str__(self):\n",
    "        return '''\\\n",
    "REFERENCIA {}\n",
    "NOMBRE {}\n",
    "PVP {}\n",
    "DESCRIPCION {}\n",
    "ISBN {}\n",
    "AUTOR {}'''.format(self.referencia, self.nombre, self.pvp, self.descripcion, self.isbn, self.autor)\n",
    "\n",
    "li = Libro(2036,'Cosina Mediterranea',9,'Resetas sanas y buenas')\n",
    "li.isbn = '102828-12-23-90'\n",
    "li.autor = 'dona juana'\n",
    "print(li)\n",
    "    "
   ]
  },
  {
   "cell_type": "code",
   "execution_count": null,
   "metadata": {
    "collapsed": true
   },
   "outputs": [],
   "source": []
  }
 ],
 "metadata": {
  "kernelspec": {
   "display_name": "Python 3",
   "language": "python",
   "name": "python3"
  },
  "language_info": {
   "codemirror_mode": {
    "name": "ipython",
    "version": 3
   },
   "file_extension": ".py",
   "mimetype": "text/x-python",
   "name": "python",
   "nbconvert_exporter": "python",
   "pygments_lexer": "ipython3",
   "version": "3.6.3"
  }
 },
 "nbformat": 4,
 "nbformat_minor": 1
}
