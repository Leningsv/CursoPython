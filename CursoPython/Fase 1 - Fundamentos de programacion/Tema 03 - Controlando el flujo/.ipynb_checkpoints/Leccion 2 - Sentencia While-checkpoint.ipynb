{
 "cells": [
  {
   "cell_type": "code",
   "execution_count": 2,
   "metadata": {},
   "outputs": [
    {
     "name": "stdout",
     "output_type": "stream",
     "text": [
      "c vale 1\n",
      "c vale 2\n",
      "c vale 3\n",
      "c vale 4\n",
      "c vale 5\n",
      "c vale 6\n"
     ]
    }
   ],
   "source": [
    "c=0\n",
    "while c<=5:\n",
    "    c+=1\n",
    "    print('c vale',c)"
   ]
  },
  {
   "cell_type": "code",
   "execution_count": 3,
   "metadata": {},
   "outputs": [
    {
     "name": "stdout",
     "output_type": "stream",
     "text": [
      "c vale 1\n",
      "c vale 2\n",
      "c vale 3\n",
      "c vale 4\n",
      "c vale 5\n",
      "c vale 6\n",
      "se a complatado toda la iteracion y c vale 6\n"
     ]
    }
   ],
   "source": [
    "# EL else forma parte del while\n",
    "c=0\n",
    "while c<=5:\n",
    "    c+=1\n",
    "    print('c vale',c)\n",
    "else:\n",
    "    print('se a complatado toda la iteracion y c vale',c)"
   ]
  },
  {
   "cell_type": "code",
   "execution_count": 4,
   "metadata": {},
   "outputs": [
    {
     "name": "stdout",
     "output_type": "stream",
     "text": [
      "c vale 1\n",
      "Rompemos el bucle cuando c vale 2\n"
     ]
    }
   ],
   "source": [
    "\n",
    "# break rompe el bule\n",
    "c=0\n",
    "while c<=5:\n",
    "    c+=1\n",
    "    if (c==2):\n",
    "        print('Rompemos el bucle cuando c vale',c)\n",
    "        break\n",
    "    print('c vale',c)\n",
    "else:\n",
    "    print('se a complatado toda la iteracion y c vale',c)"
   ]
  },
  {
   "cell_type": "code",
   "execution_count": 5,
   "metadata": {},
   "outputs": [
    {
     "name": "stdout",
     "output_type": "stream",
     "text": [
      "c vale 1\n",
      "saltamos la ejecucion de esta iteracion\n",
      "saltamos la ejecucion de esta iteracion\n",
      "c vale 4\n",
      "c vale 5\n",
      "c vale 6\n",
      "se a complatado toda la iteracion y c vale 6\n"
     ]
    }
   ],
   "source": [
    "#continue salta la iteracion actual y continua con la ejecucion\n",
    "c=0\n",
    "while c<=5:\n",
    "    c+=1\n",
    "    if (c==2 or c==3):\n",
    "        print('saltamos la ejecucion de esta iteracion')\n",
    "        continue\n",
    "    print('c vale',c)\n",
    "else:\n",
    "    print('se a complatado toda la iteracion y c vale',c)"
   ]
  },
  {
   "cell_type": "code",
   "execution_count": 6,
   "metadata": {},
   "outputs": [
    {
     "name": "stdout",
     "output_type": "stream",
     "text": [
      "Bienvenido al menu iterativo\n",
      "QUe quieres hacer\n",
      "        1) Saludar\n",
      "        2) Sumar dos numeros\n",
      "        3) Salir\n",
      "1\n",
      "Hola espero que estes bien\n",
      "QUe quieres hacer\n",
      "        1) Saludar\n",
      "        2) Sumar dos numeros\n",
      "        3) Salir\n",
      "2\n",
      "Ingresa un numero: 2\n",
      "Ingresa el segundo numero: 3\n",
      "El resultado de la suma es:  5.0\n",
      "QUe quieres hacer\n",
      "        1) Saludar\n",
      "        2) Sumar dos numeros\n",
      "        3) Salir\n",
      "d\n",
      "Comando desconocido buelve a intentarlo\n",
      "QUe quieres hacer\n",
      "        1) Saludar\n",
      "        2) Sumar dos numeros\n",
      "        3) Salir\n",
      "3\n",
      "Hasta luego a sigo un placer ayudarte\n"
     ]
    }
   ],
   "source": [
    "print('Bienvenido al menu iterativo')\n",
    "while(True):\n",
    "    print('''QUe quieres hacer\n",
    "        1) Saludar\n",
    "        2) Sumar dos numeros\n",
    "        3) Salir''')\n",
    "    opcion = input()\n",
    "    if opcion == '1':\n",
    "        print('Hola espero que estes bien')\n",
    "    elif opcion =='2':\n",
    "        n1=float(input('Ingresa un numero: '))\n",
    "        n2= float(input('Ingresa el segundo numero: '))\n",
    "        print('El resultado de la suma es: ',(n1+n2))\n",
    "    elif opcion == '3':\n",
    "        print('Hasta luego a sigo un placer ayudarte')\n",
    "        break\n",
    "    else:\n",
    "        print('Comando desconocido buelve a intentarlo')"
   ]
  },
  {
   "cell_type": "code",
   "execution_count": null,
   "metadata": {
    "collapsed": true
   },
   "outputs": [],
   "source": []
  },
  {
   "cell_type": "code",
   "execution_count": null,
   "metadata": {
    "collapsed": true
   },
   "outputs": [],
   "source": []
  }
 ],
 "metadata": {
  "kernelspec": {
   "display_name": "Python 3",
   "language": "python",
   "name": "python3"
  },
  "language_info": {
   "codemirror_mode": {
    "name": "ipython",
    "version": 3
   },
   "file_extension": ".py",
   "mimetype": "text/x-python",
   "name": "python",
   "nbconvert_exporter": "python",
   "pygments_lexer": "ipython3",
   "version": "3.6.3"
  }
 },
 "nbformat": 4,
 "nbformat_minor": 1
}
