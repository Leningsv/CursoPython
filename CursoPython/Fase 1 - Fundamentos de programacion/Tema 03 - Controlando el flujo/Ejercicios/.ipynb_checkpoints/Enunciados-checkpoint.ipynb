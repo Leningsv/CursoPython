{
 "cells": [
  {
   "cell_type": "markdown",
   "metadata": {},
   "source": [
    "# Tema 03: Control de flujo (Enunciados)\n",
    "*Nota: Estos ejercicios son optativos para hacer al final de la unidad y están pensados para apoyar tu aprendizaje*."
   ]
  },
  {
   "cell_type": "markdown",
   "metadata": {},
   "source": [
    "**1) Realiza un programa que lea dos números por teclado y permita elegir entre 3 opciones en un menú:** \n",
    "* Mostrar una suma de los dos números\n",
    "* Mostrar una resta de los dos números (el primero menos el segundo)\n",
    "* Mostrar una multiplicación de los dos números\n",
    "* En caso de no introducir una opción válida, el programa informará de que no es correcta."
   ]
  },
  {
   "cell_type": "code",
   "execution_count": 1,
   "metadata": {},
   "outputs": [
    {
     "name": "stdout",
     "output_type": "stream",
     "text": [
      "Ingrese el primer numero: 1\n",
      "Ingrese el segundo numero: 1\n",
      "Ingrese una de las 3 Opciones:\n",
      "    1) suma de dos numeros.\n",
      "    2) resta de los dos numeros.\n",
      "    3) multiplicacion de los 2 numeros.1\n",
      "la suma de los 2 numeros es 2\n"
     ]
    }
   ],
   "source": [
    "# Completa el ejercicio aquí\n",
    "numero1= int(input('Ingrese el primer numero: '))\n",
    "numero2= int(input('Ingrese el segundo numero: ')) \n",
    "opcion= input('''Ingrese una de las 3 Opciones:\n",
    "    1) suma de dos numeros.\n",
    "    2) resta de los dos numeros.\n",
    "    3) multiplicacion de los 2 numeros.''')\n",
    "if (opcion=='1'):\n",
    "    print('la suma de los 2 numeros es', numero1+numero2)\n",
    "elif (opcion =='2'):\n",
    "    print('la resta de los 2 numeros es', numero1-numero2)\n",
    "elif (opcion == '3'):\n",
    "    print('la multiplicaicon de los 2 numeros es', numero1*numero2)\n",
    "else:\n",
    "    print('Opcion Incorrecta')\n",
    "   "
   ]
  },
  {
   "cell_type": "markdown",
   "metadata": {},
   "source": [
    "**2) Realiza un programa que lea un número impar por teclado. Si el usuario no introduce un número impar, debe repetise el proceso hasta que lo introduzca correctamente.**"
   ]
  },
  {
   "cell_type": "code",
   "execution_count": 3,
   "metadata": {},
   "outputs": [
    {
     "name": "stdout",
     "output_type": "stream",
     "text": [
      "introduce un numero: 1\n",
      "Numero impar, exito 1\n"
     ]
    }
   ],
   "source": [
    "# Completa el ejercicio aquí\n",
    "while True:\n",
    "    numero = int(input('introduce un numero: '))\n",
    "    if not(numero%2 == 0):\n",
    "        print('Numero impar, exito',numero)\n",
    "        break"
   ]
  },
  {
   "cell_type": "markdown",
   "metadata": {},
   "source": [
    "**3) Realiza un programa que sume todos los números enteros pares desde el 0 hasta el 100:**\n",
    "\n",
    "*Sugerencia: Puedes utilizar la funciones sum() y range() para hacerlo más fácil. El tercer parámetro en la función range(inicio, fin, salto) indica un salto de números, pruébalo.*"
   ]
  },
  {
   "cell_type": "code",
   "execution_count": 8,
   "metadata": {},
   "outputs": [
    {
     "name": "stdout",
     "output_type": "stream",
     "text": [
      "sin bucle 2550\n",
      "con bucle 2550\n"
     ]
    }
   ],
   "source": [
    "# Completa el ejercicio aquí\n",
    "suma=sum(range(0,101,2))\n",
    "print('sin bucle',suma)\n",
    "auxSuma= 0\n",
    "for numero in range(0,101,2): \n",
    "    if(numero%2 ==0):\n",
    "        auxSuma += numero\n",
    "print('con bucle',auxSuma)"
   ]
  },
  {
   "cell_type": "markdown",
   "metadata": {},
   "source": [
    "**4) Realiza un programa que pida al usuario cuantos números quiere introducir. Luego lee todos los números y realiza una media aritmética:**\n"
   ]
  },
  {
   "cell_type": "code",
   "execution_count": 18,
   "metadata": {},
   "outputs": [
    {
     "name": "stdout",
     "output_type": "stream",
     "text": [
      "Cuantos numeros quieres introducir: 2\n",
      "Ingresa el numero 0 :1\n",
      "Ingresa el numero 1 :2\n",
      "El valor promedio es 1.5\n"
     ]
    }
   ],
   "source": [
    "# Completa el ejercicio aquí\n",
    "numero=int(input('Cuantos numeros quieres introducir: '))\n",
    "numeros=[]\n",
    "res=0.0;\n",
    "for i in range(0,numero):\n",
    "    numeros.append(int(input('Ingresa el numero '+str(i)+' :')))\n",
    "res=sum(numeros)/len(numeros) \n",
    "print('El valor promedio es',res)"
   ]
  },
  {
   "cell_type": "markdown",
   "metadata": {},
   "source": [
    "**5) Realiza un programa que pida al usuario un número entero del 0 al 9, y que mientras el número no sea correcto se repita el proceso. Luego debe comprobar si el número se encuentra en la lista de números y notificarlo:**\n",
    "\n",
    "*Consejo: La sintaxis \"valor in lista\" permite comprobar fácilmente si un valor se encuentra en una lista (devuelve True o False)*"
   ]
  },
  {
   "cell_type": "code",
   "execution_count": 24,
   "metadata": {},
   "outputs": [
    {
     "name": "stdout",
     "output_type": "stream",
     "text": [
      "ingrese un numero del 0 al 9: -1\n",
      "ingrese un numero del 0 al 9: 7\n"
     ]
    }
   ],
   "source": [
    "# Completa el ejercicio aquí\n",
    "numeros = [1, 3, 6, 9]\n",
    "while True:\n",
    "    numero = int(input('ingrese un numero del 0 al 9: '))\n",
    "    if( numero >= 0 and numero <= 9):\n",
    "        break\n",
    "if(numero in numeros):\n",
    "    print('El numero se encuentra en la lista', numero)\n",
    "else:\n",
    "    print('El numero no se encuentra en la lista', numero)"
   ]
  },
  {
   "cell_type": "markdown",
   "metadata": {},
   "source": [
    "**6) Utilizando la función range() y la conversión a listas genera las siguientes listas dinámicamente:**\n",
    "* Todos los números del 0 al 10 [0, 1, 2, ..., 10]\n",
    "* Todos los números del -10 al 0 [-10, -9, -8, ..., 0]\n",
    "* Todos los números pares del 0 al 20 [0, 2, 4, ..., 20]\n",
    "* Todos los números impares entre -20 y 0 [-19, -17, -15, ..., -1]\n",
    "* Todos los números múltiples de 5 del 0 al 50 [0, 5, 10, ..., 50]\n",
    "\n",
    "*Pista: Utiliza el tercer parámetro de la función range(inicio, fin, salto).*"
   ]
  },
  {
   "cell_type": "code",
   "execution_count": 34,
   "metadata": {},
   "outputs": [
    {
     "name": "stdout",
     "output_type": "stream",
     "text": [
      "[0, 1, 2, 3, 4, 5, 6, 7, 8, 9, 10]\n",
      "[-10, -9, -8, -7, -6, -5, -4, -3, -2, -1, 0]\n",
      "[0, 2, 4, 6, 8, 10, 12, 14, 16, 18, 20]\n",
      "[-19, -17, -15, -13, -11, -9, -7, -5, -3, -1]\n",
      "[0, 5, 10, 15, 20, 25, 30, 35, 40, 45, 50]\n"
     ]
    }
   ],
   "source": [
    "# Completa el ejercicio\n",
    "print(list(range(0,11)))\n",
    "print(list(range(-10,1)))\n",
    "print(list(range(0,21,2)))\n",
    "print(list(range(-19,1,2)))\n",
    "print(list(range(0,51,5)))"
   ]
  },
  {
   "cell_type": "markdown",
   "metadata": {},
   "source": [
    "**7) Dadas dos listas, debes generar una tercera con todos los elementos que se repitan en ellas, pero no debe repetise ningún elemento en la nueva lista:**"
   ]
  },
  {
   "cell_type": "code",
   "execution_count": 35,
   "metadata": {},
   "outputs": [
    {
     "data": {
      "text/plain": [
       "[0, 6, 8]"
      ]
     },
     "execution_count": 35,
     "metadata": {},
     "output_type": "execute_result"
    }
   ],
   "source": [
    "# Completa el ejercicio aquí\n",
    "lista1=[0,1,3,6,8]\n",
    "lista2=[0,2,5,6,8]\n",
    "lista3=[]\n",
    "for numero in lista1:\n",
    "    if numero in lista2:\n",
    "        if not(numero in lista3):\n",
    "            lista3.append(numero)\n",
    "lista3"
   ]
  },
  {
   "cell_type": "code",
   "execution_count": null,
   "metadata": {
    "collapsed": true
   },
   "outputs": [],
   "source": []
  }
 ],
 "metadata": {
  "anaconda-cloud": {},
  "kernelspec": {
   "display_name": "Python 3",
   "language": "python",
   "name": "python3"
  },
  "language_info": {
   "codemirror_mode": {
    "name": "ipython",
    "version": 3
   },
   "file_extension": ".py",
   "mimetype": "text/x-python",
   "name": "python",
   "nbconvert_exporter": "python",
   "pygments_lexer": "ipython3",
   "version": "3.6.3"
  }
 },
 "nbformat": 4,
 "nbformat_minor": 1
}
