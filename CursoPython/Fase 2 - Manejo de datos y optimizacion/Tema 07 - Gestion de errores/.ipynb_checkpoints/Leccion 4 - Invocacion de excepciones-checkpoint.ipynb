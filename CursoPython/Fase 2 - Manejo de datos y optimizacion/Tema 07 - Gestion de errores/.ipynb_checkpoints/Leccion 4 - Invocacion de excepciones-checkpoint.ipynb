{
 "cells": [
  {
   "cell_type": "code",
   "execution_count": 1,
   "metadata": {
    "collapsed": true
   },
   "outputs": [],
   "source": [
    "def miFuncion(algo= None):\n",
    "    if algo is None:\n",
    "        print('Error! No se permite un valor nulo')\n",
    "miFuncion('algo')"
   ]
  },
  {
   "cell_type": "code",
   "execution_count": 2,
   "metadata": {},
   "outputs": [
    {
     "name": "stdout",
     "output_type": "stream",
     "text": [
      "Error! No se permite un valor nulo\n"
     ]
    }
   ],
   "source": [
    "miFuncion()"
   ]
  },
  {
   "cell_type": "code",
   "execution_count": 5,
   "metadata": {},
   "outputs": [
    {
     "name": "stdout",
     "output_type": "stream",
     "text": [
      "Error! No se permite un valor nulo Desde la excepcion\n"
     ]
    }
   ],
   "source": [
    "def miFuncion(algo= None):\n",
    "    try:\n",
    "        if algo is None:\n",
    "            raise ValueError('Error! No se permite un valor nulo')\n",
    "    except ValueError as e:\n",
    "        print ('Error! No se permite un valor nulo', 'Desde la excepcion', e)\n",
    "miFuncion()"
   ]
  },
  {
   "cell_type": "code",
   "execution_count": null,
   "metadata": {
    "collapsed": true
   },
   "outputs": [],
   "source": []
  }
 ],
 "metadata": {
  "kernelspec": {
   "display_name": "Python 3",
   "language": "python",
   "name": "python3"
  },
  "language_info": {
   "codemirror_mode": {
    "name": "ipython",
    "version": 3
   },
   "file_extension": ".py",
   "mimetype": "text/x-python",
   "name": "python",
   "nbconvert_exporter": "python",
   "pygments_lexer": "ipython3",
   "version": "3.6.3"
  }
 },
 "nbformat": 4,
 "nbformat_minor": 1
}
