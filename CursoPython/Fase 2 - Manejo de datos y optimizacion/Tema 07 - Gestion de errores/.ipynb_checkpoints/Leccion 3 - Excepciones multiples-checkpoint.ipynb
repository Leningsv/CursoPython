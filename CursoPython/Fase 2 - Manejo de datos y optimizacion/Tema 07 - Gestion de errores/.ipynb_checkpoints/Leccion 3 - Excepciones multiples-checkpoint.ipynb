{
 "cells": [
  {
   "cell_type": "code",
   "execution_count": 4,
   "metadata": {},
   "outputs": [
    {
     "name": "stdout",
     "output_type": "stream",
     "text": [
      "Error ValueError\n"
     ]
    }
   ],
   "source": [
    "try:\n",
    "    n =  float('Itroduce un numero:')\n",
    "    5/n\n",
    "except Exception as e:\n",
    "    print('Error', type(e).__name__)"
   ]
  },
  {
   "cell_type": "code",
   "execution_count": 5,
   "metadata": {},
   "outputs": [
    {
     "name": "stdout",
     "output_type": "stream",
     "text": [
      "Debes introducir una cadena que sea numero\n"
     ]
    }
   ],
   "source": [
    "try:\n",
    "    n =  float('Itroduce un numero:')\n",
    "    5.0/n\n",
    "except TypeError as e:\n",
    "    print('No se puede dividir un numero por una cadena', e)\n",
    "except ValueError as e:\n",
    "    print('Debes introducir una cadena que sea numero')\n",
    "except Exception as e:\n",
    "    print('Error', type(e).__name__)"
   ]
  }
 ],
 "metadata": {
  "kernelspec": {
   "display_name": "Python 3",
   "language": "python",
   "name": "python3"
  },
  "language_info": {
   "codemirror_mode": {
    "name": "ipython",
    "version": 3
   },
   "file_extension": ".py",
   "mimetype": "text/x-python",
   "name": "python",
   "nbconvert_exporter": "python",
   "pygments_lexer": "ipython3",
   "version": "3.6.3"
  }
 },
 "nbformat": 4,
 "nbformat_minor": 1
}
