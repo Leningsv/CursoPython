{
 "cells": [
  {
   "cell_type": "code",
   "execution_count": 2,
   "metadata": {},
   "outputs": [
    {
     "name": "stdout",
     "output_type": "stream",
     "text": [
      "5\n",
      "Hola\n",
      "[1, 2, 3, 4, 5]\n",
      "(5, 'Hola', [1, 2, 3, 4, 5])\n"
     ]
    }
   ],
   "source": [
    "#El argumento es una tupla\n",
    "def indeterminadosPosicion(*args):\n",
    "    for arg in args:\n",
    "        print(arg)\n",
    "    print(args)\n",
    "indeterminadosPosicion(5, 'Hola', [1,2,3,4,5])"
   ]
  },
  {
   "cell_type": "code",
   "execution_count": 6,
   "metadata": {},
   "outputs": [
    {
     "name": "stdout",
     "output_type": "stream",
     "text": [
      "n {'n': 5, 'c': 'HOla', 'l': [1, 2, 3, 4, 5]}\n",
      "c {'n': 5, 'c': 'HOla', 'l': [1, 2, 3, 4, 5]}\n",
      "l {'n': 5, 'c': 'HOla', 'l': [1, 2, 3, 4, 5]}\n",
      "{'n': 5, 'c': 'HOla', 'l': [1, 2, 3, 4, 5]}\n"
     ]
    }
   ],
   "source": [
    "#El argumento es un diccionario\n",
    "def indeterminadosPorNombre(**kwargs):\n",
    "    for kwarg in kwargs:\n",
    "        print(kwarg,kwargs)\n",
    "    print(kwargs)\n",
    "indeterminadosPorNombre(n=5,c='HOla',l=[1,2,3,4,5])"
   ]
  },
  {
   "cell_type": "code",
   "execution_count": 7,
   "metadata": {},
   "outputs": [
    {
     "name": "stdout",
     "output_type": "stream",
     "text": [
      "a {'a': 1, 'b': 2}\n",
      "b {'a': 1, 'b': 2}\n",
      "{'a': 1, 'b': 2}\n"
     ]
    }
   ],
   "source": [
    "\n",
    "indeterminadosPorNombre(a=1,b=2)"
   ]
  },
  {
   "cell_type": "code",
   "execution_count": 8,
   "metadata": {},
   "outputs": [
    {
     "name": "stdout",
     "output_type": "stream",
     "text": [
      "Sumatorio indeterminado es 60\n",
      "nombre {'nombre': 'Hector', 'edad': 27}\n",
      "edad {'nombre': 'Hector', 'edad': 27}\n"
     ]
    }
   ],
   "source": [
    "def superFuncion(*args, **kwargs):\n",
    "    t = 0\n",
    "    for arg in args:\n",
    "        t+= arg\n",
    "    print('Sumatorio indeterminado es', t)\n",
    "    for kwarg in kwargs:\n",
    "        print(kwarg,kwargs)\n",
    "superFuncion(10,50,-1,1, nombre= 'Hector', edad= 27)"
   ]
  },
  {
   "cell_type": "code",
   "execution_count": null,
   "metadata": {
    "collapsed": true
   },
   "outputs": [],
   "source": []
  }
 ],
 "metadata": {
  "kernelspec": {
   "display_name": "Python 3",
   "language": "python",
   "name": "python3"
  },
  "language_info": {
   "codemirror_mode": {
    "name": "ipython",
    "version": 3
   },
   "file_extension": ".py",
   "mimetype": "text/x-python",
   "name": "python",
   "nbconvert_exporter": "python",
   "pygments_lexer": "ipython3",
   "version": "3.6.3"
  }
 },
 "nbformat": 4,
 "nbformat_minor": 1
}
