{
 "cells": [
  {
   "cell_type": "code",
   "execution_count": 2,
   "metadata": {},
   "outputs": [
    {
     "name": "stdout",
     "output_type": "stream",
     "text": [
      "8\n",
      "7\n",
      "6\n",
      "5\n",
      "4\n",
      "3\n",
      "2\n",
      "1\n",
      "Bommmm!\n"
     ]
    }
   ],
   "source": [
    "def cuentaAtras(num):\n",
    "    num -=1\n",
    "    if(num > 0):\n",
    "        print(num)\n",
    "        cuentaAtras(num)\n",
    "    else:\n",
    "        print('Bommmm!')\n",
    "cuentaAtras(9)"
   ]
  },
  {
   "cell_type": "code",
   "execution_count": 7,
   "metadata": {},
   "outputs": [
    {
     "name": "stdout",
     "output_type": "stream",
     "text": [
      "Valor inicial 5\n",
      "Valor inicial 4\n",
      "Valor inicial 3\n",
      "Valor inicial 2\n",
      "Valor inicial 1\n",
      "Valor final 1\n",
      "Valor final 2\n",
      "Valor final 6\n",
      "Valor final 24\n",
      "Valor final 120\n"
     ]
    },
    {
     "data": {
      "text/plain": [
       "120"
      ]
     },
     "execution_count": 7,
     "metadata": {},
     "output_type": "execute_result"
    }
   ],
   "source": [
    "def factorial(num):    \n",
    "    print('Valor inicial', num)\n",
    "    if num >1:\n",
    "        num = num * factorial(num-1)\n",
    "    print('Valor final', num)\n",
    "    return num\n",
    "factorial(5)"
   ]
  },
  {
   "cell_type": "code",
   "execution_count": null,
   "metadata": {
    "collapsed": true
   },
   "outputs": [],
   "source": []
  }
 ],
 "metadata": {
  "kernelspec": {
   "display_name": "Python 3",
   "language": "python",
   "name": "python3"
  },
  "language_info": {
   "codemirror_mode": {
    "name": "ipython",
    "version": 3
   },
   "file_extension": ".py",
   "mimetype": "text/x-python",
   "name": "python",
   "nbconvert_exporter": "python",
   "pygments_lexer": "ipython3",
   "version": "3.6.3"
  }
 },
 "nbformat": 4,
 "nbformat_minor": 1
}
